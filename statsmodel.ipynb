{
 "cells": [
  {
   "cell_type": "markdown",
   "metadata": {},
   "source": [
    "## StatsModel"
   ]
  },
  {
   "cell_type": "code",
   "execution_count": 1,
   "metadata": {},
   "outputs": [],
   "source": [
    "import requests\n",
    "import json\n",
    "import time\n",
    "import requests\n",
    "import re\n",
    "import pandas as pd\n",
    "import matplotlib.pyplot as plt\n",
    "import numpy as np\n",
    "import seaborn as sns\n",
    "import pickle\n"
   ]
  },
  {
   "cell_type": "code",
   "execution_count": 2,
   "metadata": {},
   "outputs": [],
   "source": [
    "#import needed information\n",
    "# auth_df=pd.read_pickle('auth_df.pkl')\n",
    "df_all=pd.read_pickle('df_all_new.pkl')"
   ]
  },
  {
   "cell_type": "code",
   "execution_count": 3,
   "metadata": {},
   "outputs": [
    {
     "data": {
      "text/plain": [
       "Index(['index', 'forum', 'title', 'authors', 'keywords', 'dec', 'dec_txt',\n",
       "       'dec_confidence', 'dec_title', 'bld_ratings', 'bld_text', 'bld_title',\n",
       "       'year', 'clean_title', 'author_ids', 'pub_counts', 'citation_counts',\n",
       "       'est_citation_counts', 'num_authors', 'affiliations',\n",
       "       'pub_counts_yr_adj', 'citation_counts_yr_adj',\n",
       "       'est_citation_counts_yr_adj', 'dec_sen_score', 'review_sen_score'],\n",
       "      dtype='object')"
      ]
     },
     "execution_count": 3,
     "metadata": {},
     "output_type": "execute_result"
    }
   ],
   "source": [
    "df_all.columns"
   ]
  },
  {
   "cell_type": "code",
   "execution_count": 5,
   "metadata": {},
   "outputs": [],
   "source": [
    "#save to dataframe\n",
    "df_all.to_csv('master_data.csv', index=False)"
   ]
  },
  {
   "cell_type": "markdown",
   "metadata": {},
   "source": [
    "> ### Dataframe preprocessing"
   ]
  },
  {
   "cell_type": "code",
   "execution_count": 5,
   "metadata": {},
   "outputs": [],
   "source": [
    "#take subset of dataframe for model building\n",
    "df_model=df_all[['dec','year','pub_counts_yr_adj','citation_counts_yr_adj','est_citation_counts_yr_adj','num_authors','dec_sen_score','review_sen_score','affiliations']]\n",
    "\n",
    "#remove papers without information\n",
    "df_model = df_model.drop(df_model[df_model.num_authors == 0].index)"
   ]
  },
  {
   "cell_type": "code",
   "execution_count": 6,
   "metadata": {},
   "outputs": [
    {
     "data": {
      "text/plain": [
       "(4842, 9)"
      ]
     },
     "execution_count": 6,
     "metadata": {},
     "output_type": "execute_result"
    }
   ],
   "source": [
    "df_model.shape"
   ]
  },
  {
   "cell_type": "code",
   "execution_count": 7,
   "metadata": {},
   "outputs": [],
   "source": [
    "#calc publicaion counts\n",
    "pubcounts=df_model['pub_counts_yr_adj'].tolist()\n",
    "citecounts=df_model['citation_counts_yr_adj'].tolist()\n",
    "estcitecounts=df_model['est_citation_counts_yr_adj'].tolist()\n",
    "\n",
    "pub_mean=[]\n",
    "for i in pubcounts:\n",
    "    total=sum(i)\n",
    "    avg=total/len(i)\n",
    "    pub_mean.append(avg)\n",
    "\n",
    "cite_mean=[]\n",
    "for i in citecounts:\n",
    "    total=sum(i)\n",
    "    avg=total/len(i)\n",
    "    cite_mean.append(avg)\n",
    "    \n",
    "est_cite_mean=[]\n",
    "for i in estcitecounts:\n",
    "    total=sum(i)\n",
    "    avg=total/len(i)\n",
    "    est_cite_mean.append(avg)\n",
    "    \n",
    "#create column for average publication, and citation counts\n",
    "df_model['avg_pub']=pub_mean\n",
    "df_model['avg_cite']=cite_mean\n",
    "df_model['avg_est_cite']=est_cite_mean\n",
    "\n",
    "# #create column for max publication, and citation counts\n",
    "df_model['max_pub']=df_model['pub_counts_yr_adj'].apply(max)\n",
    "df_model['max_cite']=df_model['citation_counts_yr_adj'].apply(max)\n",
    "df_model['max_est_cite']=df_model['est_citation_counts_yr_adj'].apply(max)\n",
    "\n",
    "# #create column to differentiate between single-blind and double-blind study\n",
    "df_model['type_review'] = np.where(df_model['year']==2017, 'single_blind', 'double_blind')\n",
    "df_model=df_model.drop(columns=['year'])\n"
   ]
  },
  {
   "cell_type": "code",
   "execution_count": 8,
   "metadata": {},
   "outputs": [],
   "source": [
    "#consolidating all accept decisions\n",
    "\n",
    "#try changing the accept and reject: 1 is accept and 0 is reject\n",
    "df_model['decision']=pd.np.where(df_model['dec'].str.contains('Oral'),1,\n",
    "                    pd.np.where(df_model['dec'].str.contains('Talk'),1,\n",
    "                    pd.np.where(df_model['dec'].str.contains('Poster'),0,\n",
    "                    pd.np.where(df_model['dec'].str.contains('Spotlight'),1,\n",
    "                    pd.np.where(df_model['dec'].str.contains('Workshop'),0,0)))))\n",
    "\n",
    "aff_accept=df_model.query('decision==1')\n"
   ]
  },
  {
   "cell_type": "code",
   "execution_count": 9,
   "metadata": {},
   "outputs": [
    {
     "data": {
      "image/png": "[encoded data removed]",
      "text/plain": [
       "<Figure size 432x288 with 1 Axes>"
      ]
     },
     "metadata": {
      "needs_background": "light"
     },
     "output_type": "display_data"
    }
   ],
   "source": [
    "#class balance for rejects and accepts\n",
    "ax = sns.countplot(x=\"decision\",data=df_model)"
   ]
  },
  {
   "cell_type": "code",
   "execution_count": 10,
   "metadata": {},
   "outputs": [
    {
     "name": "stdout",
     "output_type": "stream",
     "text": [
      "207\n"
     ]
    }
   ],
   "source": [
    "#calculate rank of affiliation based on acceptances\n",
    "\n",
    "#get list of institutions, rank by largest\n",
    "affliations=aff_accept['affiliations'].explode().str.lower()\n",
    "print(len(affliations.unique()))\n",
    "\n",
    "df_aff=affliations.value_counts().reset_index()\n",
    "df_aff.columns = ['institute', 'counts']\n",
    "\n",
    "#drop gmail\n",
    "df_aff=df_aff[df_aff.institute !='gmail.com']\n",
    "\n",
    "#btain ranking of institute\n",
    "df_aff['rank']=df_aff['counts'].rank(method='max', ascending=True)\n",
    "df_aff.head()\n",
    "\n",
    "#map domain to ranking and chnage values\n",
    "ranks=df_aff.to_dict('records')\n",
    "affliations_paper=df_model['affiliations'].tolist()\n"
   ]
  },
  {
   "cell_type": "code",
   "execution_count": 39,
   "metadata": {},
   "outputs": [
    {
     "name": "stderr",
     "output_type": "stream",
     "text": [
      "C:\\Users\\jaina\\Anaconda3\\envs\\si670\\lib\\site-packages\\ipykernel_launcher.py:2: FutureWarning: The signature of `Series.to_csv` was aligned to that of `DataFrame.to_csv`, and argument 'header' will change its default value from False to True: please pass an explicit value to suppress this warning.\n",
      "  \n"
     ]
    }
   ],
   "source": [
    "all_aff=df_model['affiliations'].explode().str.lower().value_counts()\n",
    "all_aff.to_csv('aff.csv')"
   ]
  },
  {
   "cell_type": "code",
   "execution_count": 40,
   "metadata": {},
   "outputs": [
    {
     "name": "stderr",
     "output_type": "stream",
     "text": [
      "C:\\Users\\jaina\\Anaconda3\\envs\\si670\\lib\\site-packages\\ipykernel_launcher.py:2: FutureWarning: The signature of `Series.to_csv` was aligned to that of `DataFrame.to_csv`, and argument 'header' will change its default value from False to True: please pass an explicit value to suppress this warning.\n",
      "  \n"
     ]
    }
   ],
   "source": [
    "all_aff=aff_accept['affiliations'].explode().str.lower().value_counts()\n",
    "all_aff.to_csv('aff_accept.csv')"
   ]
  },
  {
   "cell_type": "code",
   "execution_count": 34,
   "metadata": {},
   "outputs": [
    {
     "data": {
      "text/html": [
       "<div>\n",
       "<style scoped>\n",
       "    .dataframe tbody tr th:only-of-type {\n",
       "        vertical-align: middle;\n",
       "    }\n",
       "\n",
       "    .dataframe tbody tr th {\n",
       "        vertical-align: top;\n",
       "    }\n",
       "\n",
       "    .dataframe thead th {\n",
       "        text-align: right;\n",
       "    }\n",
       "</style>\n",
       "<table border=\"1\" class=\"dataframe\">\n",
       "  <thead>\n",
       "    <tr style=\"text-align: right;\">\n",
       "      <th></th>\n",
       "      <th>institute</th>\n",
       "      <th>counts</th>\n",
       "      <th>rank</th>\n",
       "    </tr>\n",
       "  </thead>\n",
       "  <tbody>\n",
       "    <tr>\n",
       "      <td>0</td>\n",
       "      <td>google.com</td>\n",
       "      <td>181</td>\n",
       "      <td>206.0</td>\n",
       "    </tr>\n",
       "    <tr>\n",
       "      <td>2</td>\n",
       "      <td>cs.cmu.edu</td>\n",
       "      <td>26</td>\n",
       "      <td>205.0</td>\n",
       "    </tr>\n",
       "    <tr>\n",
       "      <td>3</td>\n",
       "      <td>mit.edu</td>\n",
       "      <td>23</td>\n",
       "      <td>204.0</td>\n",
       "    </tr>\n",
       "    <tr>\n",
       "      <td>4</td>\n",
       "      <td>microsoft.com</td>\n",
       "      <td>23</td>\n",
       "      <td>204.0</td>\n",
       "    </tr>\n",
       "    <tr>\n",
       "      <td>5</td>\n",
       "      <td>berkeley.edu</td>\n",
       "      <td>23</td>\n",
       "      <td>204.0</td>\n",
       "    </tr>\n",
       "    <tr>\n",
       "      <td>...</td>\n",
       "      <td>...</td>\n",
       "      <td>...</td>\n",
       "      <td>...</td>\n",
       "    </tr>\n",
       "    <tr>\n",
       "      <td>202</td>\n",
       "      <td>geirhos.de</td>\n",
       "      <td>1</td>\n",
       "      <td>87.0</td>\n",
       "    </tr>\n",
       "    <tr>\n",
       "      <td>203</td>\n",
       "      <td>scs.ryerson.ca</td>\n",
       "      <td>1</td>\n",
       "      <td>87.0</td>\n",
       "    </tr>\n",
       "    <tr>\n",
       "      <td>204</td>\n",
       "      <td>vinai.io</td>\n",
       "      <td>1</td>\n",
       "      <td>87.0</td>\n",
       "    </tr>\n",
       "    <tr>\n",
       "      <td>205</td>\n",
       "      <td>student.unimelb.edu.au</td>\n",
       "      <td>1</td>\n",
       "      <td>87.0</td>\n",
       "    </tr>\n",
       "    <tr>\n",
       "      <td>206</td>\n",
       "      <td>sharif.edu</td>\n",
       "      <td>1</td>\n",
       "      <td>87.0</td>\n",
       "    </tr>\n",
       "  </tbody>\n",
       "</table>\n",
       "<p>206 rows × 3 columns</p>\n",
       "</div>"
      ],
      "text/plain": [
       "                  institute  counts   rank\n",
       "0                google.com     181  206.0\n",
       "2                cs.cmu.edu      26  205.0\n",
       "3                   mit.edu      23  204.0\n",
       "4             microsoft.com      23  204.0\n",
       "5              berkeley.edu      23  204.0\n",
       "..                      ...     ...    ...\n",
       "202              geirhos.de       1   87.0\n",
       "203          scs.ryerson.ca       1   87.0\n",
       "204                vinai.io       1   87.0\n",
       "205  student.unimelb.edu.au       1   87.0\n",
       "206              sharif.edu       1   87.0\n",
       "\n",
       "[206 rows x 3 columns]"
      ]
     },
     "execution_count": 34,
     "metadata": {},
     "output_type": "execute_result"
    }
   ],
   "source": [
    "aff"
   ]
  },
  {
   "cell_type": "code",
   "execution_count": 36,
   "metadata": {},
   "outputs": [
    {
     "data": {
      "text/plain": [
       "<matplotlib.legend.Legend at 0x160238daf08>"
      ]
     },
     "execution_count": 36,
     "metadata": {},
     "output_type": "execute_result"
    },
    {
     "data": {
      "image/png": "[encoded data removed]",
      "text/plain": [
       "<Figure size 432x288 with 1 Axes>"
      ]
     },
     "metadata": {},
     "output_type": "display_data"
    }
   ],
   "source": [
    "color_palette_list = ['#009ACD', '#ADD8E6', '#63D1F4', '#0EBFE9',   \n",
    "                      '#C1F0F6', '#0099CC']\n",
    "\n",
    "fig, ax = plt.subplots()\n",
    "plt.rcParams['font.sans-serif'] = 'Arial'\n",
    "plt.rcParams['font.family'] = 'sans-serif'\n",
    "plt.rcParams['text.color'] = '#909090'\n",
    "plt.rcParams['axes.labelcolor']= '#909090'\n",
    "plt.rcParams['xtick.color'] = '#909090'\n",
    "plt.rcParams['ytick.color'] = '#909090'\n",
    "plt.rcParams['font.size']=12\n",
    "labels = ['Bay Area / Silicon Valley', \n",
    "         'Non Bay Area / Silicon Valley']\n",
    "percentages = [91, 9]\n",
    "explode=(0.1,0)\n",
    "ax.pie(percentages, explode=explode, labels=labels,  \n",
    "       colors=color_palette_list[0:2], autopct='%1.0f%%', \n",
    "       shadow=False, startangle=0,   \n",
    "       pctdistance=1.2,labeldistance=1.4)\n",
    "ax.axis('equal')\n",
    "ax.set_title(\"Author Affiliations\")\n",
    "ax.legend(frameon=False, bbox_to_anchor=(1.5,0.8))"
   ]
  },
  {
   "cell_type": "code",
   "execution_count": 13,
   "metadata": {},
   "outputs": [
    {
     "data": {
      "text/plain": [
       "4842"
      ]
     },
     "execution_count": 13,
     "metadata": {},
     "output_type": "execute_result"
    }
   ],
   "source": [
    "len(all_ranks)"
   ]
  },
  {
   "cell_type": "code",
   "execution_count": 12,
   "metadata": {},
   "outputs": [],
   "source": [
    "#get affiliation ranking for each paper\n",
    "all_ranks=[]\n",
    "for paper in affliations_paper:\n",
    "    rank_val=0\n",
    "    for domain in paper:\n",
    "        rank=next((item['rank'] for item in ranks if item[\"institute\"] == domain), 0)\n",
    "        rank_val+=rank\n",
    "    rank_avg=rank_val/len(paper)\n",
    "    all_ranks.append(rank_avg)\n",
    "\n",
    "# add to dataframe \n",
    "df_model['affiliation_ranks']=all_ranks"
   ]
  },
  {
   "cell_type": "code",
   "execution_count": 14,
   "metadata": {},
   "outputs": [],
   "source": [
    "#create dummy variables for the review type \n",
    "df_model=pd.get_dummies(df_model, columns=['type_review'])"
   ]
  },
  {
   "cell_type": "code",
   "execution_count": 26,
   "metadata": {},
   "outputs": [
    {
     "data": {
      "text/html": [
       "<div>\n",
       "<style scoped>\n",
       "    .dataframe tbody tr th:only-of-type {\n",
       "        vertical-align: middle;\n",
       "    }\n",
       "\n",
       "    .dataframe tbody tr th {\n",
       "        vertical-align: top;\n",
       "    }\n",
       "\n",
       "    .dataframe thead th {\n",
       "        text-align: right;\n",
       "    }\n",
       "</style>\n",
       "<table border=\"1\" class=\"dataframe\">\n",
       "  <thead>\n",
       "    <tr style=\"text-align: right;\">\n",
       "      <th></th>\n",
       "      <th>dec</th>\n",
       "      <th>pub_counts_yr_adj</th>\n",
       "      <th>citation_counts_yr_adj</th>\n",
       "      <th>est_citation_counts_yr_adj</th>\n",
       "      <th>num_authors</th>\n",
       "      <th>dec_sen_score</th>\n",
       "      <th>review_sen_score</th>\n",
       "      <th>affiliations</th>\n",
       "      <th>avg_pub</th>\n",
       "      <th>avg_cite</th>\n",
       "      <th>avg_est_cite</th>\n",
       "      <th>max_pub</th>\n",
       "      <th>max_cite</th>\n",
       "      <th>max_est_cite</th>\n",
       "      <th>decision</th>\n",
       "      <th>affiliation_ranks</th>\n",
       "      <th>type_review_double_blind</th>\n",
       "      <th>type_review_single_blind</th>\n",
       "    </tr>\n",
       "  </thead>\n",
       "  <tbody>\n",
       "    <tr>\n",
       "      <td>0</td>\n",
       "      <td>Accept (Poster)</td>\n",
       "      <td>[24, 5, 22, 2, 63, 120, 109]</td>\n",
       "      <td>[58, 5, 62, 2, 333, 446, 1379]</td>\n",
       "      <td>[387, 158, 555, 76, 942, 12832, 4186]</td>\n",
       "      <td>7.0</td>\n",
       "      <td>0.123275</td>\n",
       "      <td>0.161820</td>\n",
       "      <td>[gmail.com, cs.cmu.edu, gmail.com, gmail.com, ...</td>\n",
       "      <td>49.285714</td>\n",
       "      <td>326.428571</td>\n",
       "      <td>2733.714286</td>\n",
       "      <td>120</td>\n",
       "      <td>1379</td>\n",
       "      <td>12832</td>\n",
       "      <td>0</td>\n",
       "      <td>70.857143</td>\n",
       "      <td>0</td>\n",
       "      <td>1</td>\n",
       "    </tr>\n",
       "    <tr>\n",
       "      <td>1</td>\n",
       "      <td>Accept (Poster)</td>\n",
       "      <td>[54, 56, 54]</td>\n",
       "      <td>[128, 158, 98]</td>\n",
       "      <td>[3882, 1848, 2663]</td>\n",
       "      <td>3.0</td>\n",
       "      <td>0.529200</td>\n",
       "      <td>0.127357</td>\n",
       "      <td>[cs.princeton.edu, cs.princeton.edu, cs.prince...</td>\n",
       "      <td>54.666667</td>\n",
       "      <td>128.000000</td>\n",
       "      <td>2797.666667</td>\n",
       "      <td>56</td>\n",
       "      <td>158</td>\n",
       "      <td>3882</td>\n",
       "      <td>0</td>\n",
       "      <td>0.000000</td>\n",
       "      <td>0</td>\n",
       "      <td>1</td>\n",
       "    </tr>\n",
       "    <tr>\n",
       "      <td>2</td>\n",
       "      <td>Accept (Poster)</td>\n",
       "      <td>[10, 65]</td>\n",
       "      <td>[10, 147]</td>\n",
       "      <td>[555, 3075]</td>\n",
       "      <td>2.0</td>\n",
       "      <td>0.000000</td>\n",
       "      <td>0.173518</td>\n",
       "      <td>[ttic.edu, ttic.edu]</td>\n",
       "      <td>37.500000</td>\n",
       "      <td>78.500000</td>\n",
       "      <td>1815.000000</td>\n",
       "      <td>65</td>\n",
       "      <td>147</td>\n",
       "      <td>3075</td>\n",
       "      <td>0</td>\n",
       "      <td>87.000000</td>\n",
       "      <td>0</td>\n",
       "      <td>1</td>\n",
       "    </tr>\n",
       "    <tr>\n",
       "      <td>3</td>\n",
       "      <td>Reject</td>\n",
       "      <td>[12, 1, 50, 224, 157, 15, 6, 1, 29, 8, 2, 3, 1...</td>\n",
       "      <td>[22, 1, 128, 2054, 913, 35, 8, 1, 63, 8, 2, 3,...</td>\n",
       "      <td>[364, 322, 1799, 36634, 11432, 644, 407, 322, ...</td>\n",
       "      <td>15.0</td>\n",
       "      <td>0.100625</td>\n",
       "      <td>0.185682</td>\n",
       "      <td>[microsoft.com, microsoft.com, microsoft.com, ...</td>\n",
       "      <td>34.266667</td>\n",
       "      <td>216.266667</td>\n",
       "      <td>3703.333333</td>\n",
       "      <td>224</td>\n",
       "      <td>2054</td>\n",
       "      <td>36634</td>\n",
       "      <td>0</td>\n",
       "      <td>204.000000</td>\n",
       "      <td>0</td>\n",
       "      <td>1</td>\n",
       "    </tr>\n",
       "    <tr>\n",
       "      <td>4</td>\n",
       "      <td>Reject</td>\n",
       "      <td>[4, 10, 59]</td>\n",
       "      <td>[4, 12, 227]</td>\n",
       "      <td>[175, 626, 7272]</td>\n",
       "      <td>3.0</td>\n",
       "      <td>0.069817</td>\n",
       "      <td>0.149944</td>\n",
       "      <td>[uva.nl, esat.kuleuven.be, uva.nl]</td>\n",
       "      <td>24.333333</td>\n",
       "      <td>81.000000</td>\n",
       "      <td>2691.000000</td>\n",
       "      <td>59</td>\n",
       "      <td>227</td>\n",
       "      <td>7272</td>\n",
       "      <td>0</td>\n",
       "      <td>117.333333</td>\n",
       "      <td>0</td>\n",
       "      <td>1</td>\n",
       "    </tr>\n",
       "  </tbody>\n",
       "</table>\n",
       "</div>"
      ],
      "text/plain": [
       "               dec                                  pub_counts_yr_adj  \\\n",
       "0  Accept (Poster)                       [24, 5, 22, 2, 63, 120, 109]   \n",
       "1  Accept (Poster)                                       [54, 56, 54]   \n",
       "2  Accept (Poster)                                           [10, 65]   \n",
       "3           Reject  [12, 1, 50, 224, 157, 15, 6, 1, 29, 8, 2, 3, 1...   \n",
       "4           Reject                                        [4, 10, 59]   \n",
       "\n",
       "                              citation_counts_yr_adj  \\\n",
       "0                     [58, 5, 62, 2, 333, 446, 1379]   \n",
       "1                                     [128, 158, 98]   \n",
       "2                                          [10, 147]   \n",
       "3  [22, 1, 128, 2054, 913, 35, 8, 1, 63, 8, 2, 3,...   \n",
       "4                                       [4, 12, 227]   \n",
       "\n",
       "                          est_citation_counts_yr_adj  num_authors  \\\n",
       "0              [387, 158, 555, 76, 942, 12832, 4186]          7.0   \n",
       "1                                 [3882, 1848, 2663]          3.0   \n",
       "2                                        [555, 3075]          2.0   \n",
       "3  [364, 322, 1799, 36634, 11432, 644, 407, 322, ...         15.0   \n",
       "4                                   [175, 626, 7272]          3.0   \n",
       "\n",
       "   dec_sen_score  review_sen_score  \\\n",
       "0       0.123275          0.161820   \n",
       "1       0.529200          0.127357   \n",
       "2       0.000000          0.173518   \n",
       "3       0.100625          0.185682   \n",
       "4       0.069817          0.149944   \n",
       "\n",
       "                                        affiliations    avg_pub    avg_cite  \\\n",
       "0  [gmail.com, cs.cmu.edu, gmail.com, gmail.com, ...  49.285714  326.428571   \n",
       "1  [cs.princeton.edu, cs.princeton.edu, cs.prince...  54.666667  128.000000   \n",
       "2                               [ttic.edu, ttic.edu]  37.500000   78.500000   \n",
       "3  [microsoft.com, microsoft.com, microsoft.com, ...  34.266667  216.266667   \n",
       "4                 [uva.nl, esat.kuleuven.be, uva.nl]  24.333333   81.000000   \n",
       "\n",
       "   avg_est_cite  max_pub  max_cite  max_est_cite  decision  affiliation_ranks  \\\n",
       "0   2733.714286      120      1379         12832         0          70.857143   \n",
       "1   2797.666667       56       158          3882         0           0.000000   \n",
       "2   1815.000000       65       147          3075         0          87.000000   \n",
       "3   3703.333333      224      2054         36634         0         204.000000   \n",
       "4   2691.000000       59       227          7272         0         117.333333   \n",
       "\n",
       "   type_review_double_blind  type_review_single_blind  \n",
       "0                         0                         1  \n",
       "1                         0                         1  \n",
       "2                         0                         1  \n",
       "3                         0                         1  \n",
       "4                         0                         1  "
      ]
     },
     "execution_count": 26,
     "metadata": {},
     "output_type": "execute_result"
    }
   ],
   "source": [
    "df_model.head()"
   ]
  },
  {
   "cell_type": "code",
   "execution_count": null,
   "metadata": {},
   "outputs": [],
   "source": []
  },
  {
   "cell_type": "markdown",
   "metadata": {},
   "source": [
    "> ### EDA"
   ]
  },
  {
   "cell_type": "code",
   "execution_count": 16,
   "metadata": {},
   "outputs": [
    {
     "data": {
      "image/png": "[encoded data removed]",
      "text/plain": [
       "<Figure size 432x288 with 1 Axes>"
      ]
     },
     "metadata": {
      "needs_background": "light"
     },
     "output_type": "display_data"
    }
   ],
   "source": [
    "ax = sns.countplot(x=\"year\",data=df_all)"
   ]
  },
  {
   "cell_type": "code",
   "execution_count": 17,
   "metadata": {},
   "outputs": [
    {
     "data": {
      "image/png": "[encoded data removed]",
      "text/plain": [
       "<Figure size 432x288 with 1 Axes>"
      ]
     },
     "metadata": {
      "needs_background": "light"
     },
     "output_type": "display_data"
    }
   ],
   "source": [
    "#number of submissions over the years\n",
    "ax = sns.countplot(x=\"num_authors\",data=df_model)"
   ]
  },
  {
   "cell_type": "code",
   "execution_count": null,
   "metadata": {},
   "outputs": [],
   "source": [
    "sns.boxplot(x=\"cols\", y=\"vals\", data=df_plot,whis=\"range\", palette=\"vlag\")"
   ]
  },
  {
   "cell_type": "markdown",
   "metadata": {},
   "source": [
    "### Baseline model"
   ]
  },
  {
   "cell_type": "code",
   "execution_count": 78,
   "metadata": {},
   "outputs": [],
   "source": [
    "import statsmodels.formula.api as smf"
   ]
  },
  {
   "cell_type": "markdown",
   "metadata": {},
   "source": [
    "> just predcting on the class balance "
   ]
  },
  {
   "cell_type": "code",
   "execution_count": 99,
   "metadata": {},
   "outputs": [
    {
     "name": "stdout",
     "output_type": "stream",
     "text": [
      "Optimization terminated successfully.\n",
      "         Current function value: 0.182044\n",
      "         Iterations 7\n"
     ]
    },
    {
     "data": {
      "text/html": [
       "<table class=\"simpletable\">\n",
       "<caption>Logit Regression Results</caption>\n",
       "<tr>\n",
       "  <th>Dep. Variable:</th>       <td>decision</td>     <th>  No. Observations:  </th>  <td>  4842</td> \n",
       "</tr>\n",
       "<tr>\n",
       "  <th>Model:</th>                 <td>Logit</td>      <th>  Df Residuals:      </th>  <td>  4840</td> \n",
       "</tr>\n",
       "<tr>\n",
       "  <th>Method:</th>                 <td>MLE</td>       <th>  Df Model:          </th>  <td>     1</td> \n",
       "</tr>\n",
       "<tr>\n",
       "  <th>Date:</th>            <td>Thu, 16 Apr 2020</td> <th>  Pseudo R-squ.:     </th> <td>0.001552</td>\n",
       "</tr>\n",
       "<tr>\n",
       "  <th>Time:</th>                <td>14:00:54</td>     <th>  Log-Likelihood:    </th> <td> -881.46</td>\n",
       "</tr>\n",
       "<tr>\n",
       "  <th>converged:</th>             <td>True</td>       <th>  LL-Null:           </th> <td> -882.83</td>\n",
       "</tr>\n",
       "<tr>\n",
       "  <th>Covariance Type:</th>     <td>nonrobust</td>    <th>  LLR p-value:       </th>  <td>0.09790</td>\n",
       "</tr>\n",
       "</table>\n",
       "<table class=\"simpletable\">\n",
       "<tr>\n",
       "              <td></td>                <th>coef</th>     <th>std err</th>      <th>z</th>      <th>P>|z|</th>  <th>[0.025</th>    <th>0.975]</th>  \n",
       "</tr>\n",
       "<tr>\n",
       "  <th>Intercept</th>                <td>   -3.0280</td> <td>    0.072</td> <td>  -41.927</td> <td> 0.000</td> <td>   -3.170</td> <td>   -2.886</td>\n",
       "</tr>\n",
       "<tr>\n",
       "  <th>type_review_single_blind</th> <td>   -0.4251</td> <td>    0.272</td> <td>   -1.563</td> <td> 0.118</td> <td>   -0.958</td> <td>    0.108</td>\n",
       "</tr>\n",
       "</table>"
      ],
      "text/plain": [
       "<class 'statsmodels.iolib.summary.Summary'>\n",
       "\"\"\"\n",
       "                           Logit Regression Results                           \n",
       "==============================================================================\n",
       "Dep. Variable:               decision   No. Observations:                 4842\n",
       "Model:                          Logit   Df Residuals:                     4840\n",
       "Method:                           MLE   Df Model:                            1\n",
       "Date:                Thu, 16 Apr 2020   Pseudo R-squ.:                0.001552\n",
       "Time:                        14:00:54   Log-Likelihood:                -881.46\n",
       "converged:                       True   LL-Null:                       -882.83\n",
       "Covariance Type:            nonrobust   LLR p-value:                   0.09790\n",
       "============================================================================================\n",
       "                               coef    std err          z      P>|z|      [0.025      0.975]\n",
       "--------------------------------------------------------------------------------------------\n",
       "Intercept                   -3.0280      0.072    -41.927      0.000      -3.170      -2.886\n",
       "type_review_single_blind    -0.4251      0.272     -1.563      0.118      -0.958       0.108\n",
       "============================================================================================\n",
       "\"\"\""
      ]
     },
     "execution_count": 99,
     "metadata": {},
     "output_type": "execute_result"
    }
   ],
   "source": [
    "model = smf.logit (formula='decision ~ type_review_single_blind ', data=df_model).fit()\n",
    "model.summary()"
   ]
  },
  {
   "cell_type": "code",
   "execution_count": 23,
   "metadata": {},
   "outputs": [
    {
     "data": {
      "text/plain": [
       "<matplotlib.axes._subplots.AxesSubplot at 0x160232000c8>"
      ]
     },
     "execution_count": 23,
     "metadata": {},
     "output_type": "execute_result"
    },
    {
     "data": {
      "image/png": "[encoded data removed]",
      "text/plain": [
       "<Figure size 432x288 with 1 Axes>"
      ]
     },
     "metadata": {
      "needs_background": "light"
     },
     "output_type": "display_data"
    }
   ],
   "source": [
    "sns.boxplot(x=\"variable\", y=\"value\", data=pd.melt(df_model[['avg_cite','avg_pub','avg_est_cite','max_pub','max_cite','max_est_cite','affiliation_ranks']]))"
   ]
  },
  {
   "cell_type": "code",
   "execution_count": 25,
   "metadata": {},
   "outputs": [
    {
     "data": {
      "text/html": [
       "<div>\n",
       "<style scoped>\n",
       "    .dataframe tbody tr th:only-of-type {\n",
       "        vertical-align: middle;\n",
       "    }\n",
       "\n",
       "    .dataframe tbody tr th {\n",
       "        vertical-align: top;\n",
       "    }\n",
       "\n",
       "    .dataframe thead th {\n",
       "        text-align: right;\n",
       "    }\n",
       "</style>\n",
       "<table border=\"1\" class=\"dataframe\">\n",
       "  <thead>\n",
       "    <tr style=\"text-align: right;\">\n",
       "      <th></th>\n",
       "      <th>num_authors</th>\n",
       "      <th>dec_sen_score</th>\n",
       "      <th>review_sen_score</th>\n",
       "      <th>avg_pub</th>\n",
       "      <th>avg_cite</th>\n",
       "      <th>avg_est_cite</th>\n",
       "      <th>max_pub</th>\n",
       "      <th>max_cite</th>\n",
       "      <th>max_est_cite</th>\n",
       "      <th>decision</th>\n",
       "      <th>affiliation_ranks</th>\n",
       "      <th>type_review_double_blind</th>\n",
       "      <th>type_review_single_blind</th>\n",
       "    </tr>\n",
       "  </thead>\n",
       "  <tbody>\n",
       "    <tr>\n",
       "      <td>num_authors</td>\n",
       "      <td>1.000000</td>\n",
       "      <td>0.049518</td>\n",
       "      <td>0.109469</td>\n",
       "      <td>0.094573</td>\n",
       "      <td>0.011788</td>\n",
       "      <td>0.097346</td>\n",
       "      <td>0.282442</td>\n",
       "      <td>0.094977</td>\n",
       "      <td>0.209019</td>\n",
       "      <td>0.054408</td>\n",
       "      <td>0.161669</td>\n",
       "      <td>0.049567</td>\n",
       "      <td>-0.049567</td>\n",
       "    </tr>\n",
       "    <tr>\n",
       "      <td>dec_sen_score</td>\n",
       "      <td>0.049518</td>\n",
       "      <td>1.000000</td>\n",
       "      <td>0.286015</td>\n",
       "      <td>0.079480</td>\n",
       "      <td>-0.014171</td>\n",
       "      <td>0.079733</td>\n",
       "      <td>0.061597</td>\n",
       "      <td>-0.019965</td>\n",
       "      <td>0.075133</td>\n",
       "      <td>0.151425</td>\n",
       "      <td>0.130645</td>\n",
       "      <td>-0.060261</td>\n",
       "      <td>0.060261</td>\n",
       "    </tr>\n",
       "    <tr>\n",
       "      <td>review_sen_score</td>\n",
       "      <td>0.109469</td>\n",
       "      <td>0.286015</td>\n",
       "      <td>1.000000</td>\n",
       "      <td>0.047348</td>\n",
       "      <td>-0.032096</td>\n",
       "      <td>0.092094</td>\n",
       "      <td>0.048042</td>\n",
       "      <td>-0.028183</td>\n",
       "      <td>0.087090</td>\n",
       "      <td>0.138698</td>\n",
       "      <td>0.127955</td>\n",
       "      <td>-0.166415</td>\n",
       "      <td>0.166415</td>\n",
       "    </tr>\n",
       "    <tr>\n",
       "      <td>avg_pub</td>\n",
       "      <td>0.094573</td>\n",
       "      <td>0.079480</td>\n",
       "      <td>0.047348</td>\n",
       "      <td>1.000000</td>\n",
       "      <td>0.596432</td>\n",
       "      <td>0.468815</td>\n",
       "      <td>0.888954</td>\n",
       "      <td>0.592131</td>\n",
       "      <td>0.412391</td>\n",
       "      <td>0.020508</td>\n",
       "      <td>0.143562</td>\n",
       "      <td>-0.020612</td>\n",
       "      <td>0.020612</td>\n",
       "    </tr>\n",
       "    <tr>\n",
       "      <td>avg_cite</td>\n",
       "      <td>0.011788</td>\n",
       "      <td>-0.014171</td>\n",
       "      <td>-0.032096</td>\n",
       "      <td>0.596432</td>\n",
       "      <td>1.000000</td>\n",
       "      <td>0.120343</td>\n",
       "      <td>0.545918</td>\n",
       "      <td>0.927014</td>\n",
       "      <td>0.079115</td>\n",
       "      <td>-0.005862</td>\n",
       "      <td>-0.010715</td>\n",
       "      <td>0.049469</td>\n",
       "      <td>-0.049469</td>\n",
       "    </tr>\n",
       "    <tr>\n",
       "      <td>avg_est_cite</td>\n",
       "      <td>0.097346</td>\n",
       "      <td>0.079733</td>\n",
       "      <td>0.092094</td>\n",
       "      <td>0.468815</td>\n",
       "      <td>0.120343</td>\n",
       "      <td>1.000000</td>\n",
       "      <td>0.459366</td>\n",
       "      <td>0.111226</td>\n",
       "      <td>0.908461</td>\n",
       "      <td>0.007201</td>\n",
       "      <td>0.139456</td>\n",
       "      <td>-0.204889</td>\n",
       "      <td>0.204889</td>\n",
       "    </tr>\n",
       "    <tr>\n",
       "      <td>max_pub</td>\n",
       "      <td>0.282442</td>\n",
       "      <td>0.061597</td>\n",
       "      <td>0.048042</td>\n",
       "      <td>0.888954</td>\n",
       "      <td>0.545918</td>\n",
       "      <td>0.459366</td>\n",
       "      <td>1.000000</td>\n",
       "      <td>0.644730</td>\n",
       "      <td>0.510567</td>\n",
       "      <td>0.011510</td>\n",
       "      <td>0.106750</td>\n",
       "      <td>0.016081</td>\n",
       "      <td>-0.016081</td>\n",
       "    </tr>\n",
       "    <tr>\n",
       "      <td>max_cite</td>\n",
       "      <td>0.094977</td>\n",
       "      <td>-0.019965</td>\n",
       "      <td>-0.028183</td>\n",
       "      <td>0.592131</td>\n",
       "      <td>0.927014</td>\n",
       "      <td>0.111226</td>\n",
       "      <td>0.644730</td>\n",
       "      <td>1.000000</td>\n",
       "      <td>0.105512</td>\n",
       "      <td>-0.007476</td>\n",
       "      <td>-0.010164</td>\n",
       "      <td>0.057796</td>\n",
       "      <td>-0.057796</td>\n",
       "    </tr>\n",
       "    <tr>\n",
       "      <td>max_est_cite</td>\n",
       "      <td>0.209019</td>\n",
       "      <td>0.075133</td>\n",
       "      <td>0.087090</td>\n",
       "      <td>0.412391</td>\n",
       "      <td>0.079115</td>\n",
       "      <td>0.908461</td>\n",
       "      <td>0.510567</td>\n",
       "      <td>0.105512</td>\n",
       "      <td>1.000000</td>\n",
       "      <td>0.007164</td>\n",
       "      <td>0.110065</td>\n",
       "      <td>-0.159198</td>\n",
       "      <td>0.159198</td>\n",
       "    </tr>\n",
       "    <tr>\n",
       "      <td>decision</td>\n",
       "      <td>0.054408</td>\n",
       "      <td>0.151425</td>\n",
       "      <td>0.138698</td>\n",
       "      <td>0.020508</td>\n",
       "      <td>-0.005862</td>\n",
       "      <td>0.007201</td>\n",
       "      <td>0.011510</td>\n",
       "      <td>-0.007476</td>\n",
       "      <td>0.007164</td>\n",
       "      <td>1.000000</td>\n",
       "      <td>0.167155</td>\n",
       "      <td>0.022623</td>\n",
       "      <td>-0.022623</td>\n",
       "    </tr>\n",
       "    <tr>\n",
       "      <td>affiliation_ranks</td>\n",
       "      <td>0.161669</td>\n",
       "      <td>0.130645</td>\n",
       "      <td>0.127955</td>\n",
       "      <td>0.143562</td>\n",
       "      <td>-0.010715</td>\n",
       "      <td>0.139456</td>\n",
       "      <td>0.106750</td>\n",
       "      <td>-0.010164</td>\n",
       "      <td>0.110065</td>\n",
       "      <td>0.167155</td>\n",
       "      <td>1.000000</td>\n",
       "      <td>-0.027922</td>\n",
       "      <td>0.027922</td>\n",
       "    </tr>\n",
       "    <tr>\n",
       "      <td>type_review_double_blind</td>\n",
       "      <td>0.049567</td>\n",
       "      <td>-0.060261</td>\n",
       "      <td>-0.166415</td>\n",
       "      <td>-0.020612</td>\n",
       "      <td>0.049469</td>\n",
       "      <td>-0.204889</td>\n",
       "      <td>0.016081</td>\n",
       "      <td>0.057796</td>\n",
       "      <td>-0.159198</td>\n",
       "      <td>0.022623</td>\n",
       "      <td>-0.027922</td>\n",
       "      <td>1.000000</td>\n",
       "      <td>-1.000000</td>\n",
       "    </tr>\n",
       "    <tr>\n",
       "      <td>type_review_single_blind</td>\n",
       "      <td>-0.049567</td>\n",
       "      <td>0.060261</td>\n",
       "      <td>0.166415</td>\n",
       "      <td>0.020612</td>\n",
       "      <td>-0.049469</td>\n",
       "      <td>0.204889</td>\n",
       "      <td>-0.016081</td>\n",
       "      <td>-0.057796</td>\n",
       "      <td>0.159198</td>\n",
       "      <td>-0.022623</td>\n",
       "      <td>0.027922</td>\n",
       "      <td>-1.000000</td>\n",
       "      <td>1.000000</td>\n",
       "    </tr>\n",
       "  </tbody>\n",
       "</table>\n",
       "</div>"
      ],
      "text/plain": [
       "                          num_authors  dec_sen_score  review_sen_score  \\\n",
       "num_authors                  1.000000       0.049518          0.109469   \n",
       "dec_sen_score                0.049518       1.000000          0.286015   \n",
       "review_sen_score             0.109469       0.286015          1.000000   \n",
       "avg_pub                      0.094573       0.079480          0.047348   \n",
       "avg_cite                     0.011788      -0.014171         -0.032096   \n",
       "avg_est_cite                 0.097346       0.079733          0.092094   \n",
       "max_pub                      0.282442       0.061597          0.048042   \n",
       "max_cite                     0.094977      -0.019965         -0.028183   \n",
       "max_est_cite                 0.209019       0.075133          0.087090   \n",
       "decision                     0.054408       0.151425          0.138698   \n",
       "affiliation_ranks            0.161669       0.130645          0.127955   \n",
       "type_review_double_blind     0.049567      -0.060261         -0.166415   \n",
       "type_review_single_blind    -0.049567       0.060261          0.166415   \n",
       "\n",
       "                           avg_pub  avg_cite  avg_est_cite   max_pub  \\\n",
       "num_authors               0.094573  0.011788      0.097346  0.282442   \n",
       "dec_sen_score             0.079480 -0.014171      0.079733  0.061597   \n",
       "review_sen_score          0.047348 -0.032096      0.092094  0.048042   \n",
       "avg_pub                   1.000000  0.596432      0.468815  0.888954   \n",
       "avg_cite                  0.596432  1.000000      0.120343  0.545918   \n",
       "avg_est_cite              0.468815  0.120343      1.000000  0.459366   \n",
       "max_pub                   0.888954  0.545918      0.459366  1.000000   \n",
       "max_cite                  0.592131  0.927014      0.111226  0.644730   \n",
       "max_est_cite              0.412391  0.079115      0.908461  0.510567   \n",
       "decision                  0.020508 -0.005862      0.007201  0.011510   \n",
       "affiliation_ranks         0.143562 -0.010715      0.139456  0.106750   \n",
       "type_review_double_blind -0.020612  0.049469     -0.204889  0.016081   \n",
       "type_review_single_blind  0.020612 -0.049469      0.204889 -0.016081   \n",
       "\n",
       "                          max_cite  max_est_cite  decision  affiliation_ranks  \\\n",
       "num_authors               0.094977      0.209019  0.054408           0.161669   \n",
       "dec_sen_score            -0.019965      0.075133  0.151425           0.130645   \n",
       "review_sen_score         -0.028183      0.087090  0.138698           0.127955   \n",
       "avg_pub                   0.592131      0.412391  0.020508           0.143562   \n",
       "avg_cite                  0.927014      0.079115 -0.005862          -0.010715   \n",
       "avg_est_cite              0.111226      0.908461  0.007201           0.139456   \n",
       "max_pub                   0.644730      0.510567  0.011510           0.106750   \n",
       "max_cite                  1.000000      0.105512 -0.007476          -0.010164   \n",
       "max_est_cite              0.105512      1.000000  0.007164           0.110065   \n",
       "decision                 -0.007476      0.007164  1.000000           0.167155   \n",
       "affiliation_ranks        -0.010164      0.110065  0.167155           1.000000   \n",
       "type_review_double_blind  0.057796     -0.159198  0.022623          -0.027922   \n",
       "type_review_single_blind -0.057796      0.159198 -0.022623           0.027922   \n",
       "\n",
       "                          type_review_double_blind  type_review_single_blind  \n",
       "num_authors                               0.049567                 -0.049567  \n",
       "dec_sen_score                            -0.060261                  0.060261  \n",
       "review_sen_score                         -0.166415                  0.166415  \n",
       "avg_pub                                  -0.020612                  0.020612  \n",
       "avg_cite                                  0.049469                 -0.049469  \n",
       "avg_est_cite                             -0.204889                  0.204889  \n",
       "max_pub                                   0.016081                 -0.016081  \n",
       "max_cite                                  0.057796                 -0.057796  \n",
       "max_est_cite                             -0.159198                  0.159198  \n",
       "decision                                  0.022623                 -0.022623  \n",
       "affiliation_ranks                        -0.027922                  0.027922  \n",
       "type_review_double_blind                  1.000000                 -1.000000  \n",
       "type_review_single_blind                 -1.000000                  1.000000  "
      ]
     },
     "execution_count": 25,
     "metadata": {},
     "output_type": "execute_result"
    }
   ],
   "source": [
    "df_model.corr()"
   ]
  },
  {
   "cell_type": "code",
   "execution_count": 24,
   "metadata": {},
   "outputs": [
    {
     "data": {
      "text/plain": [
       "<seaborn.matrix.ClusterGrid at 0x160232d4bc8>"
      ]
     },
     "execution_count": 24,
     "metadata": {},
     "output_type": "execute_result"
    },
    {
     "data": {
      "image/png": "[encoded data removed]",
      "text/plain": [
       "<Figure size 720x720 with 4 Axes>"
      ]
     },
     "metadata": {
      "needs_background": "light"
     },
     "output_type": "display_data"
    }
   ],
   "source": [
    "sns.clustermap(df_model.corr())"
   ]
  },
  {
   "cell_type": "markdown",
   "metadata": {},
   "source": [
    "### Models with different measures of prestige "
   ]
  },
  {
   "cell_type": "code",
   "execution_count": 95,
   "metadata": {},
   "outputs": [],
   "source": [
    "measures=['avg_cite','avg_pub','avg_est_cite','max_pub','max_cite','max_est_cite','affiliation_ranks']"
   ]
  },
  {
   "cell_type": "code",
   "execution_count": 96,
   "metadata": {},
   "outputs": [
    {
     "name": "stdout",
     "output_type": "stream",
     "text": [
      "\n",
      " \n",
      " *******************************************avg_cite***************************************\n",
      "Optimization terminated successfully.\n",
      "         Current function value: 0.181446\n",
      "         Iterations 9\n",
      "                           Logit Regression Results                           \n",
      "==============================================================================\n",
      "Dep. Variable:               decision   No. Observations:                 4842\n",
      "Model:                          Logit   Df Residuals:                     4838\n",
      "Method:                           MLE   Df Model:                            3\n",
      "Date:                Thu, 16 Apr 2020   Pseudo R-squ.:                0.004829\n",
      "Time:                        12:38:52   Log-Likelihood:                -878.56\n",
      "converged:                       True   LL-Null:                       -882.83\n",
      "Covariance Type:            nonrobust   LLR p-value:                   0.03630\n",
      "=====================================================================================================\n",
      "                                        coef    std err          z      P>|z|      [0.025      0.975]\n",
      "-----------------------------------------------------------------------------------------------------\n",
      "Intercept                            -3.0160      0.078    -38.794      0.000      -3.168      -2.864\n",
      "avg_cite                          -2.403e-05   5.99e-05     -0.401      0.688      -0.000    9.34e-05\n",
      "type_review_single_blind              0.1937      0.374      0.518      0.604      -0.539       0.926\n",
      "avg_cite:type_review_single_blind    -0.0042      0.002     -1.749      0.080      -0.009       0.001\n",
      "=====================================================================================================\n",
      "                                          0         1\n",
      "Intercept                         -3.168366 -2.863615\n",
      "avg_cite                          -0.000141  0.000093\n",
      "type_review_single_blind          -0.538695  0.926121\n",
      "avg_cite:type_review_single_blind -0.008824  0.000503\n",
      "\n",
      " \n",
      " *******************************************avg_pub***************************************\n",
      "Optimization terminated successfully.\n",
      "         Current function value: 0.181833\n",
      "         Iterations 7\n",
      "                           Logit Regression Results                           \n",
      "==============================================================================\n",
      "Dep. Variable:               decision   No. Observations:                 4842\n",
      "Model:                          Logit   Df Residuals:                     4838\n",
      "Method:                           MLE   Df Model:                            3\n",
      "Date:                Thu, 16 Apr 2020   Pseudo R-squ.:                0.002709\n",
      "Time:                        12:38:52   Log-Likelihood:                -880.44\n",
      "converged:                       True   LL-Null:                       -882.83\n",
      "Covariance Type:            nonrobust   LLR p-value:                    0.1884\n",
      "====================================================================================================\n",
      "                                       coef    std err          z      P>|z|      [0.025      0.975]\n",
      "----------------------------------------------------------------------------------------------------\n",
      "Intercept                           -3.1457      0.110    -28.720      0.000      -3.360      -2.931\n",
      "avg_pub                              0.0028      0.002      1.486      0.137      -0.001       0.006\n",
      "type_review_single_blind            -0.3175      0.489     -0.649      0.516      -1.276       0.641\n",
      "avg_pub:type_review_single_blind    -0.0025      0.009     -0.271      0.786      -0.021       0.016\n",
      "====================================================================================================\n",
      "                                         0         1\n",
      "Intercept                        -3.360386 -2.931039\n",
      "avg_pub                          -0.000883  0.006424\n",
      "type_review_single_blind         -1.276378  0.641354\n",
      "avg_pub:type_review_single_blind -0.020900  0.015824\n",
      "\n",
      " \n",
      " *******************************************avg_est_cite***************************************\n",
      "Optimization terminated successfully.\n",
      "         Current function value: 0.181957\n",
      "         Iterations 7\n",
      "                           Logit Regression Results                           \n",
      "==============================================================================\n",
      "Dep. Variable:               decision   No. Observations:                 4842\n",
      "Model:                          Logit   Df Residuals:                     4838\n",
      "Method:                           MLE   Df Model:                            3\n",
      "Date:                Thu, 16 Apr 2020   Pseudo R-squ.:                0.002028\n",
      "Time:                        12:38:53   Log-Likelihood:                -881.04\n",
      "converged:                       True   LL-Null:                       -882.83\n",
      "Covariance Type:            nonrobust   LLR p-value:                    0.3104\n",
      "=========================================================================================================\n",
      "                                            coef    std err          z      P>|z|      [0.025      0.975]\n",
      "---------------------------------------------------------------------------------------------------------\n",
      "Intercept                                -3.0426      0.079    -38.512      0.000      -3.197      -2.888\n",
      "avg_est_cite                           6.877e-06   1.47e-05      0.468      0.640   -2.19e-05    3.57e-05\n",
      "type_review_single_blind                 -0.5166      0.309     -1.674      0.094      -1.122       0.088\n",
      "avg_est_cite:type_review_single_blind  8.438e-06   2.27e-05      0.371      0.710   -3.61e-05     5.3e-05\n",
      "=========================================================================================================\n",
      "                                              0         1\n",
      "Intercept                             -3.197393 -2.887707\n",
      "avg_est_cite                          -0.000022  0.000036\n",
      "type_review_single_blind              -1.121676  0.088388\n",
      "avg_est_cite:type_review_single_blind -0.000036  0.000053\n",
      "\n",
      " \n",
      " *******************************************max_pub***************************************\n",
      "Optimization terminated successfully.\n",
      "         Current function value: 0.181802\n",
      "         Iterations 8\n",
      "                           Logit Regression Results                           \n",
      "==============================================================================\n",
      "Dep. Variable:               decision   No. Observations:                 4842\n",
      "Model:                          Logit   Df Residuals:                     4838\n",
      "Method:                           MLE   Df Model:                            3\n",
      "Date:                Thu, 16 Apr 2020   Pseudo R-squ.:                0.002881\n",
      "Time:                        12:38:53   Log-Likelihood:                -880.28\n",
      "converged:                       True   LL-Null:                       -882.83\n",
      "Covariance Type:            nonrobust   LLR p-value:                    0.1656\n",
      "====================================================================================================\n",
      "                                       coef    std err          z      P>|z|      [0.025      0.975]\n",
      "----------------------------------------------------------------------------------------------------\n",
      "Intercept                           -3.0996      0.103    -30.239      0.000      -3.301      -2.899\n",
      "max_pub                              0.0007      0.001      1.016      0.310      -0.001       0.002\n",
      "type_review_single_blind             0.0582      0.445      0.131      0.896      -0.815       0.931\n",
      "max_pub:type_review_single_blind    -0.0054      0.005     -1.202      0.229      -0.014       0.003\n",
      "====================================================================================================\n",
      "                                         0         1\n",
      "Intercept                        -3.300524 -2.898719\n",
      "max_pub                          -0.000625  0.001970\n",
      "type_review_single_blind         -0.814528  0.931007\n",
      "max_pub:type_review_single_blind -0.014279  0.003423\n",
      "\n",
      " \n",
      " *******************************************max_cite***************************************\n",
      "Optimization terminated successfully.\n",
      "         Current function value: 0.181388\n",
      "         Iterations 9\n",
      "                           Logit Regression Results                           \n",
      "==============================================================================\n",
      "Dep. Variable:               decision   No. Observations:                 4842\n",
      "Model:                          Logit   Df Residuals:                     4838\n",
      "Method:                           MLE   Df Model:                            3\n",
      "Date:                Thu, 16 Apr 2020   Pseudo R-squ.:                0.005150\n",
      "Time:                        12:38:53   Log-Likelihood:                -878.28\n",
      "converged:                       True   LL-Null:                       -882.83\n",
      "Covariance Type:            nonrobust   LLR p-value:                   0.02807\n",
      "=====================================================================================================\n",
      "                                        coef    std err          z      P>|z|      [0.025      0.975]\n",
      "-----------------------------------------------------------------------------------------------------\n",
      "Intercept                            -3.0131      0.077    -38.937      0.000      -3.165      -2.861\n",
      "max_cite                          -9.114e-06   1.79e-05     -0.511      0.610   -4.41e-05    2.59e-05\n",
      "type_review_single_blind              0.1345      0.350      0.384      0.701      -0.551       0.820\n",
      "max_cite:type_review_single_blind    -0.0014      0.001     -1.710      0.087      -0.003       0.000\n",
      "=====================================================================================================\n",
      "                                          0         1\n",
      "Intercept                         -3.164741 -2.861404\n",
      "max_cite                          -0.000044  0.000026\n",
      "type_review_single_blind          -0.551440  0.820480\n",
      "max_cite:type_review_single_blind -0.003032  0.000206\n",
      "\n",
      " \n",
      " *******************************************max_est_cite***************************************\n",
      "Optimization terminated successfully.\n",
      "         Current function value: 0.181979\n",
      "         Iterations 7\n",
      "                           Logit Regression Results                           \n",
      "==============================================================================\n",
      "Dep. Variable:               decision   No. Observations:                 4842\n",
      "Model:                          Logit   Df Residuals:                     4838\n",
      "Method:                           MLE   Df Model:                            3\n",
      "Date:                Thu, 16 Apr 2020   Pseudo R-squ.:                0.001908\n",
      "Time:                        12:38:53   Log-Likelihood:                -881.14\n",
      "converged:                       True   LL-Null:                       -882.83\n",
      "Covariance Type:            nonrobust   LLR p-value:                    0.3382\n",
      "=========================================================================================================\n",
      "                                            coef    std err          z      P>|z|      [0.025      0.975]\n",
      "---------------------------------------------------------------------------------------------------------\n",
      "Intercept                                -3.0494      0.077    -39.355      0.000      -3.201      -2.898\n",
      "max_est_cite                           2.972e-06   3.66e-06      0.811      0.417   -4.21e-06    1.02e-05\n",
      "type_review_single_blind                 -0.4236      0.304     -1.393      0.164      -1.020       0.172\n",
      "max_est_cite:type_review_single_blind -1.871e-06   8.01e-06     -0.234      0.815   -1.76e-05    1.38e-05\n",
      "=========================================================================================================\n",
      "                                              0         1\n",
      "Intercept                             -3.201262 -2.897530\n",
      "max_est_cite                          -0.000004  0.000010\n",
      "type_review_single_blind              -1.019660  0.172486\n",
      "max_est_cite:type_review_single_blind -0.000018  0.000014\n",
      "\n",
      " \n",
      " *******************************************affiliation_ranks***************************************\n",
      "Optimization terminated successfully.\n",
      "         Current function value: 0.167237\n",
      "         Iterations 8\n",
      "                           Logit Regression Results                           \n",
      "==============================================================================\n",
      "Dep. Variable:               decision   No. Observations:                 4842\n",
      "Model:                          Logit   Df Residuals:                     4838\n",
      "Method:                           MLE   Df Model:                            3\n",
      "Date:                Thu, 16 Apr 2020   Pseudo R-squ.:                 0.08276\n",
      "Time:                        12:38:53   Log-Likelihood:                -809.76\n",
      "converged:                       True   LL-Null:                       -882.83\n",
      "Covariance Type:            nonrobust   LLR p-value:                 1.798e-31\n",
      "==============================================================================================================\n",
      "                                                 coef    std err          z      P>|z|      [0.025      0.975]\n",
      "--------------------------------------------------------------------------------------------------------------\n",
      "Intercept                                     -4.4423      0.183    -24.293      0.000      -4.801      -4.084\n",
      "affiliation_ranks                              0.0119      0.001     10.382      0.000       0.010       0.014\n",
      "type_review_single_blind                      -0.3131      0.694     -0.451      0.652      -1.673       1.047\n",
      "affiliation_ranks:type_review_single_blind    -0.0015      0.004     -0.368      0.713      -0.010       0.007\n",
      "==============================================================================================================\n",
      "                                                   0         1\n",
      "Intercept                                  -4.800730 -4.083914\n",
      "affiliation_ranks                           0.009647  0.014137\n",
      "type_review_single_blind                   -1.673465  1.047168\n",
      "affiliation_ranks:type_review_single_blind -0.009774  0.006687\n"
     ]
    }
   ],
   "source": [
    "for m in measures:\n",
    "    formula='decision ~ '+str(m)+' + type_review_single_blind + '+str(m)+'*type_review_single_blind'\n",
    "    print('\\n \\n *******************************************'+str(m)+'***************************************')\n",
    "    model = smf.logit (formula=formula, data=df_model).fit()\n",
    "    print(model.summary())\n",
    "    print(model.conf_int())"
   ]
  }
 ],
 "metadata": {
  "kernelspec": {
   "display_name": "Python 3",
   "language": "python",
   "name": "python3"
  },
  "language_info": {
   "codemirror_mode": {
    "name": "ipython",
    "version": 3
   },
   "file_extension": ".py",
   "mimetype": "text/x-python",
   "name": "python",
   "nbconvert_exporter": "python",
   "pygments_lexer": "ipython3",
   "version": "3.7.1"
  }
 },
 "nbformat": 4,
 "nbformat_minor": 4
}
